{
  "cells": [
    {
      "cell_type": "markdown",
      "metadata": {
        "id": "view-in-github",
        "colab_type": "text"
      },
      "source": [
        "<a href=\"https://colab.research.google.com/github/RYeeshuDhurandhar/ES-654-Machine-Learning/blob/main/PrerequisiteTest/MLPrerequsiteTest.ipynb\" target=\"_parent\"><img src=\"https://colab.research.google.com/assets/colab-badge.svg\" alt=\"Open In Colab\"/></a>"
      ]
    },
    {
      "cell_type": "code",
      "execution_count": 1,
      "id": "eed617a5",
      "metadata": {
        "id": "eed617a5"
      },
      "outputs": [],
      "source": [
        "# importing required libraries\n",
        "\n",
        "import matplotlib.pyplot as plt\n",
        "import numpy as np\n",
        "import pandas as pd\n",
        "import time\n",
        "\n",
        "import jax\n",
        "import jax.numpy as jnp\n",
        "from jax import grad\n",
        "import sympy as sp\n",
        "\n",
        "# to see plots in notebook\n",
        "%matplotlib inline  "
      ]
    },
    {
      "cell_type": "markdown",
      "id": "9c377123",
      "metadata": {
        "id": "9c377123"
      },
      "source": [
        "## Question 1\n",
        "\n",
        "**How many multiplications and additions do you need to perform a matrix multiplication between a (n, k) and (k, m) matrix? Explain.**"
      ]
    },
    {
      "cell_type": "markdown",
      "id": "fd772ef7",
      "metadata": {
        "id": "fd772ef7"
      },
      "source": [
        "Number of multiplication needed: **nxmxk**\n",
        "<br/>\n",
        "Number of addition needed: **nxmx(k-1)**\n",
        "\n",
        "Lets we have:\n",
        "<br/>\n",
        "matrix1: (n, k)\n",
        "<br/>\n",
        "matrix2: (k, m)\n",
        "\n",
        "Each row of matrix1 has to be multiplied with each column of matrix2, making nxm total operations which corresponds to nxm resultant matrix.\n",
        "For each such operations, we need k number of multiplications (k elements in a row of matrix1 multiples with k elements of a column of matrix2). Therefore, for nxm operations, we have nxmxk multiplications. \n",
        "\n",
        "To add all the k multiplied numbers, we need k-1 addition for one operation. Therefore, for nxm operations, we have nxmx(k-1) additions. "
      ]
    },
    {
      "cell_type": "markdown",
      "id": "3be698cd",
      "metadata": {
        "id": "3be698cd"
      },
      "source": [
        "## Question 2\n",
        "\n",
        "**Write Python code to multiply the above two matrices. Solve using list of lists and then use numpy. Compare the timing of both solutions. Which one is faster? Why?**"
      ]
    },
    {
      "cell_type": "code",
      "execution_count": 2,
      "id": "47a2f1a6",
      "metadata": {
        "id": "47a2f1a6"
      },
      "outputs": [],
      "source": [
        "# initializing the dimensions of the matrix\n",
        "n=4\n",
        "k=5\n",
        "m=3\n",
        "\n",
        "# generating random matrices\n",
        "mat1 = np.random.randint(1,100,(n,k))\n",
        "mat2 = np.random.randint(1,100,(k,m))\n",
        "mat3 = np.zeros((n,m))      # to store the results after multiplication\n",
        "\n",
        "# finding size of matrices\n",
        "size1 = mat1.shape\n",
        "size2 = mat2.shape\n",
        "\n",
        "# converting arrays to lists\n",
        "mat1 = list(mat1)\n",
        "mat2 = list(mat2)\n",
        "mat3 = list(mat3)"
      ]
    },
    {
      "cell_type": "code",
      "execution_count": 3,
      "id": "68d25259",
      "metadata": {
        "colab": {
          "base_uri": "https://localhost:8080/"
        },
        "id": "68d25259",
        "outputId": "b0ec651b-516a-4243-99e6-5df9a53e5694"
      },
      "outputs": [
        {
          "output_type": "stream",
          "name": "stdout",
          "text": [
            "Average Time (in ms) for matrix multiplication using defined function and list: 0.054959678649902345\n"
          ]
        }
      ],
      "source": [
        "# Case1: using for loop and list\n",
        "\n",
        "sum_time = 0    # to sum the time required for running each test\n",
        "no_itr = 10000  # number of tests to calculate average time\n",
        "\n",
        "for itr in range(no_itr):\n",
        "    tic = time.time()\n",
        "    for i in range(0,n):    # matrix multiplication\n",
        "        for l in range(0,m):\n",
        "            for j in range(0,k):\n",
        "                mat3[i][l] += mat1[i][j]*mat2[j][l]\n",
        "    toc = time.time()\n",
        "    sum_time += toc-tic\n",
        "print('Average Time (in ms) for matrix multiplication using defined function and list:', sum_time*1000/no_itr)"
      ]
    },
    {
      "cell_type": "code",
      "execution_count": 4,
      "id": "cc21ff01",
      "metadata": {
        "colab": {
          "base_uri": "https://localhost:8080/"
        },
        "id": "cc21ff01",
        "outputId": "0182d48b-2c22-4941-9ddd-280c3c0278e7"
      },
      "outputs": [
        {
          "output_type": "stream",
          "name": "stdout",
          "text": [
            "Average Time (in ms) for matrix multiplication using defined function and numpy array: 0.09632692337036133\n"
          ]
        }
      ],
      "source": [
        "# Case2: using for loop and numpy array\n",
        "\n",
        "# converting lists to arrays\n",
        "mat1 = np.array(mat1)\n",
        "mat2 = np.array(mat2)\n",
        "mat3 = np.array(mat3)\n",
        "\n",
        "sum_time = 0\n",
        "no_itr = 10000  # number of tests to calculate average time\n",
        "\n",
        "for itr in range(no_itr):\n",
        "    tic = time.time()\n",
        "    for i in range(0,n):    # matrix multiplication\n",
        "        for l in range(0,m):\n",
        "            for j in range(0,k):\n",
        "                mat3[i][l] += mat1[i][j]*mat2[j][l]\n",
        "    toc = time.time()\n",
        "    sum_time += toc-tic\n",
        "print('Average Time (in ms) for matrix multiplication using defined function and numpy array:', sum_time*1000/no_itr)"
      ]
    },
    {
      "cell_type": "code",
      "execution_count": 5,
      "id": "a4c65ca8",
      "metadata": {
        "colab": {
          "base_uri": "https://localhost:8080/"
        },
        "id": "a4c65ca8",
        "outputId": "e3f433a5-4395-4335-d095-5cac3b2602cf"
      },
      "outputs": [
        {
          "output_type": "stream",
          "name": "stdout",
          "text": [
            "Average Time (in ms) to calculate matrix multiplication using pre-defined np.dot() function: 0.0024955034255981444\n"
          ]
        }
      ],
      "source": [
        "# Case3: using np.dot() function\n",
        "\n",
        "sum_time = 0\n",
        "no_itr = 10000  # number of tests to calculate average time\n",
        "\n",
        "for itr in range(no_itr):\n",
        "    tic = time.time()\n",
        "    mat3 = np.dot(mat1, mat2)   # matrix multiplication\n",
        "    toc = time.time()\n",
        "    sum_time += toc-tic\n",
        "print('Average Time (in ms) to calculate matrix multiplication using pre-defined np.dot() function:', sum_time*1000/no_itr)"
      ]
    },
    {
      "cell_type": "markdown",
      "id": "2afe6ad5",
      "metadata": {
        "id": "2afe6ad5"
      },
      "source": [
        "Observations:\n",
        "\n",
        "There is not much difference when we use array (Case1) or list (Case2) in case of for loop based multiplication, since both uses for loops.\n",
        "\n",
        "There is significant reduction in time when used of np.dot() function (Case3) because:\n",
        "- in the case of loops, it is implemented in high level language and the speed of computation is constrained by python interpreter.\n",
        "- in case of np.dot() function, it is implemented in C which is much faster than python. As per my reading through different sources, I got to know that for operations involving linear algebra, numpy uses highly optimized C and Fortran libraries. These libraries are made to handle matrix operations on a variety of hardware architectures."
      ]
    },
    {
      "cell_type": "markdown",
      "id": "4ec9cf55",
      "metadata": {
        "id": "4ec9cf55"
      },
      "source": [
        "## Question 3\n",
        "\n",
        "**Finding the highest element in a list requires one pass of the array. Finding the second highest element requires 2 passes of the the array. Using this method, what is the time complexity of finding the median of the array?** \n",
        "\n",
        "**Can you suggest a better method?**\n",
        "\n",
        "**Can you implement both these methods in Python and compare against numpy.median routine in terms of time?**"
      ]
    },
    {
      "cell_type": "markdown",
      "id": "d00da052",
      "metadata": {
        "id": "d00da052"
      },
      "source": [
        "Using the first method on array having n elements, we need to travers the array n/2 time for finding the median, and each time, we are traversing through n elements, therefore, time complexity = O(n^2).\n",
        "\n",
        "We can use sorting algorithms which has time complexity of O(nlogn), such as quick sort, merge sort, heap sort, etc."
      ]
    },
    {
      "cell_type": "code",
      "execution_count": 6,
      "id": "e7a79990",
      "metadata": {
        "id": "e7a79990"
      },
      "outputs": [],
      "source": [
        "# initializing array of random integers betwee [1,100) of size 100\n",
        "ar = np.random.randint(1,100,100)"
      ]
    },
    {
      "cell_type": "code",
      "execution_count": 7,
      "id": "7158c936",
      "metadata": {
        "id": "7158c936"
      },
      "outputs": [],
      "source": [
        "# Function to find the median using given method\n",
        "# this code handles array having repeated elements\n",
        "\n",
        "def findMedian(ar):\n",
        "    s = set()       # to store the index of last_max elements \n",
        "    max = ar[0]\n",
        "    max_idx = 0     \n",
        "    n = len(ar)\n",
        "\n",
        "    # finding max element of the array\n",
        "    for i in range(n):\n",
        "        if ar[i]>max:\n",
        "            max = ar[i]\n",
        "            max_idx = i\n",
        "\n",
        "    last_max = max\n",
        "    s.add(max_idx)\n",
        "\n",
        "    # finding other elemnts in decreasing order\n",
        "    for i in range(1, int(n/2)+1):\n",
        "        temp = 0\n",
        "        temp_idx = 0\n",
        "        for j in range(0,n):\n",
        "            if (ar[j] <= last_max) and (j not in s) and (ar[j] >= temp):\n",
        "                temp = ar[j]\n",
        "                temp_idx = j\n",
        "        last_max = temp\n",
        "        s.add(temp_idx)\n",
        "        if(n % 2 == 0 and i == (n/2 - 1)):\n",
        "            mid1 = last_max     # if number of elements == even, storing one of the middle element\n",
        "\n",
        "    if n % 2 == 0:\n",
        "        median = (mid1 + last_max) / 2  # average of the two middle elements\n",
        "    else:\n",
        "        median = last_max  # middle element\n",
        "#     return median     # uncomment this to see the resultant median\n",
        "\n",
        "findMedian(ar)"
      ]
    },
    {
      "cell_type": "code",
      "execution_count": 8,
      "id": "475c1068",
      "metadata": {
        "colab": {
          "base_uri": "https://localhost:8080/"
        },
        "id": "475c1068",
        "outputId": "39c380e8-a2dc-441a-d2e5-c8db51410271"
      },
      "outputs": [
        {
          "output_type": "stream",
          "name": "stdout",
          "text": [
            "Median using Quick Sort: 49.5\n"
          ]
        }
      ],
      "source": [
        "# Quick sort\n",
        "# Reference: GeeksForGeeks Documentation\n",
        "\n",
        "# to find partition project\n",
        "def partition(ar, low, high):\n",
        "    i = low - 1\n",
        "    pivot = ar[high]\n",
        "\n",
        "    for j in range(low, high):\n",
        "        if ar[j] <= pivot:\n",
        "            i = i + 1\n",
        "            temp = ar[i]\n",
        "            ar[i] = ar[j]\n",
        "            ar[j] = temp\n",
        "            \n",
        "    temp = ar[i + 1]\n",
        "    ar[i + 1] = ar[high]\n",
        "    ar[high] = temp\n",
        "\n",
        "    return i + 1\n",
        "\n",
        "# performing quick sort using above function\n",
        "def quickSort(ar, low, high):\n",
        "    if low < high:\n",
        "        piv = partition(ar, low, high)\n",
        "        quickSort(ar, low, piv - 1)\n",
        "        quickSort(ar, piv + 1, high)\n",
        "\n",
        "n = len(ar)\n",
        "quickSort(ar, 0, n - 1)\n",
        " \n",
        "if n % 2 == 0:\n",
        "    median = (ar[n // 2] + ar[n // 2 - 1]) / 2  # if n==even -> average of the two middle elements\n",
        "else:\n",
        "    median = ar[n // 2]  # if n==odd -> middle element\n",
        "        \n",
        "print('Median using Quick Sort:', median)"
      ]
    },
    {
      "cell_type": "code",
      "execution_count": 9,
      "id": "92ec7418",
      "metadata": {
        "colab": {
          "base_uri": "https://localhost:8080/"
        },
        "id": "92ec7418",
        "outputId": "04185f9b-11b5-4a0a-e964-b9e904a98779"
      },
      "outputs": [
        {
          "output_type": "execute_result",
          "data": {
            "text/plain": [
              "49.5"
            ]
          },
          "metadata": {},
          "execution_count": 9
        }
      ],
      "source": [
        "np.median(ar)"
      ]
    },
    {
      "cell_type": "code",
      "execution_count": 10,
      "id": "64b12b74",
      "metadata": {
        "colab": {
          "base_uri": "https://localhost:8080/"
        },
        "id": "64b12b74",
        "outputId": "597b0f75-4480-4811-b7be-7b16bdbf0500"
      },
      "outputs": [
        {
          "output_type": "stream",
          "name": "stdout",
          "text": [
            "Average time (in ms) using the given algorithm: 1.5032341480255127\n",
            "Average time (in ms) using Quick Sort: 0.36490917205810547\n",
            "Average time (in ms) using Numpy median: 0.02776169776916504\n"
          ]
        }
      ],
      "source": [
        "# Comparing time\n",
        "no_itr = 1000         # number of tests to find average time\n",
        "\n",
        "#### Method1 ####\n",
        "time_sum = 0\n",
        "for itr in range(no_itr):\n",
        "    ar = np.random.randint(1,100,100)\n",
        "    tic = time.time()       # start time for each test\n",
        "    \n",
        "    findMedian(ar)\n",
        "        \n",
        "    toc = time.time()\n",
        "    time_sum += toc-tic      # end time for each test\n",
        "print('Average time (in ms) using the given algorithm:', time_sum*1000/no_itr)\n",
        "    \n",
        "    \n",
        "#### Method2 ####\n",
        "\n",
        "time_sum = 0\n",
        "for itr in range(no_itr):\n",
        "    ar = np.random.randint(1,100,100)\n",
        "    n = len(ar)\n",
        "    tic = time.time()\n",
        "    \n",
        "    quickSort(ar, 0, n - 1)\n",
        "    if n % 2 == 0:\n",
        "        median = (ar[n // 2] + ar[n // 2 - 1]) / 2\n",
        "    else:\n",
        "        median = ar[n // 2]\n",
        "        \n",
        "    toc = time.time()\n",
        "    time_sum += toc-tic\n",
        "print('Average time (in ms) using Quick Sort:', time_sum*1000/no_itr)\n",
        "\n",
        "\n",
        "#### Method3 ####\n",
        "\n",
        "time_sum = 0\n",
        "for itr in range(no_itr):\n",
        "    ar = np.random.randint(1,100,100)\n",
        "    tic = time.time()\n",
        "    \n",
        "    np.median(ar)\n",
        "        \n",
        "    toc = time.time()\n",
        "    time_sum += toc-tic\n",
        "print('Average time (in ms) using Numpy median:', time_sum*1000/no_itr)"
      ]
    },
    {
      "cell_type": "markdown",
      "source": [
        "Observation:\n",
        "- average time using given algorithm is maximum since $O(n^2)$.\n",
        "- average time using quick sort is lesser than given algrithm since O(nlogn).\n",
        "- average time using numpy median is minimum because it uses highly optimized C and Fortain based libraries for operations."
      ],
      "metadata": {
        "id": "rv99SZ6CuIuJ"
      },
      "id": "rv99SZ6CuIuJ"
    },
    {
      "cell_type": "markdown",
      "id": "2fa8b669",
      "metadata": {
        "id": "2fa8b669"
      },
      "source": [
        "## Question 4\n",
        "\n",
        "**What is the gradient of the following function with respect to x and y?**\n",
        "\n",
        "$$x^2y + y^3 sin(x)$$"
      ]
    },
    {
      "cell_type": "markdown",
      "id": "20565383",
      "metadata": {
        "id": "20565383"
      },
      "source": [
        "Gradient w.r.t. x: \n",
        "\n",
        "$2xy + y^3 cos(x)$\n",
        "\n",
        "Gradient w.r.t. y:\n",
        "\n",
        "$x^2 + 3y^2sin(x)$"
      ]
    },
    {
      "cell_type": "markdown",
      "id": "dfbe60b5",
      "metadata": {
        "id": "dfbe60b5"
      },
      "source": [
        "## Question 5\n",
        "\n",
        "**Use JAX to confirm the gradient evaluated by your method matches the analytical solution corresponding to a few random values of x and y**"
      ]
    },
    {
      "cell_type": "code",
      "execution_count": 11,
      "id": "876486a0",
      "metadata": {
        "id": "876486a0"
      },
      "outputs": [],
      "source": [
        "n = 10\n",
        "x = np.random.randn(n)    # initializing array from normal distribution for testing since JAX require float\n",
        "y = np.random.randn(n)\n",
        "x *= 15                   # multiplied by a number to spread the numbers\n",
        "y *= 17"
      ]
    },
    {
      "cell_type": "code",
      "source": [
        "# definig given function\n",
        "def func(input):\n",
        "    return ((input[0]**2)*input[1] + (input[1]**3)*jnp.sin(input[0]))\n",
        "\n",
        "print('\\nGradient calculated using JAX\\n')\n",
        "\n",
        "# calculating gradient for each tests\n",
        "for i in range(n):\n",
        "  input = jnp.array([x[i],y[i]])\n",
        "  gradient = jax.grad(func)\n",
        "  print(f'Test  {i}:', '\\t', f'df_dx: {gradient(input)[0]},', '\\t', f'df_dy: {gradient(input)[1]}')\n",
        "\n",
        "print('\\nGradient calculated using derivative of the given function\\n')\n",
        "\n",
        "# printing calculated gradient for each tests\n",
        "for i in range(n):\n",
        "  print(f'Test  {i}:', '\\t', 'df_dx:', 2*x[i]*y[i] + (y[i]**3)*np.cos(x[i]), '\\t', 'df_dy:', x[i]**2 + 3*(y[i]**2)*np.sin(x[i]))"
      ],
      "metadata": {
        "colab": {
          "base_uri": "https://localhost:8080/"
        },
        "id": "NyUBvpMZZL0v",
        "outputId": "0dd2e765-e210-4e1e-98f8-26110cdb3384"
      },
      "id": "NyUBvpMZZL0v",
      "execution_count": 12,
      "outputs": [
        {
          "output_type": "stream",
          "name": "stderr",
          "text": [
            "WARNING:jax._src.lib.xla_bridge:No GPU/TPU found, falling back to CPU. (Set TF_CPP_MIN_LOG_LEVEL=0 and rerun for more info.)\n"
          ]
        },
        {
          "output_type": "stream",
          "name": "stdout",
          "text": [
            "\n",
            "Gradient calculated using JAX\n",
            "\n",
            "Test  0: \t df_dx: -707.1538696289062, \t df_dy: -453.0492248535156\n",
            "Test  1: \t df_dx: -182.56607055664062, \t df_dy: 1168.0826416015625\n",
            "Test  2: \t df_dx: -1711.2275390625, \t df_dy: 495.6048889160156\n",
            "Test  3: \t df_dx: 9331.84765625, \t df_dy: 424.58203125\n",
            "Test  4: \t df_dx: 60377.56640625, \t df_dy: -3154.4501953125\n",
            "Test  5: \t df_dx: -18.06975746154785, \t df_dy: 43.70539855957031\n",
            "Test  6: \t df_dx: 7803.53955078125, \t df_dy: -235.65219116210938\n",
            "Test  7: \t df_dx: 2142.50341796875, \t df_dy: -886.9456176757812\n",
            "Test  8: \t df_dx: 1767.288330078125, \t df_dy: 167.50067138671875\n",
            "Test  9: \t df_dx: 183.9699249267578, \t df_dy: -354.7041015625\n",
            "\n",
            "Gradient calculated using derivative of the given function\n",
            "\n",
            "Test  0: \t df_dx: -707.1542623228877 \t df_dy: -453.04921634080864\n",
            "Test  1: \t df_dx: -182.56606850864864 \t df_dy: 1168.082626609153\n",
            "Test  2: \t df_dx: -1711.2274232139412 \t df_dy: 495.60498186882495\n",
            "Test  3: \t df_dx: 9331.847978541573 \t df_dy: 424.58180663577053\n",
            "Test  4: \t df_dx: 60377.57693560889 \t df_dy: -3154.448358933815\n",
            "Test  5: \t df_dx: -18.069758193779496 \t df_dy: 43.705403315137886\n",
            "Test  6: \t df_dx: 7803.540536437774 \t df_dy: -235.6522188393059\n",
            "Test  7: \t df_dx: 2142.503143069531 \t df_dy: -886.945516123748\n",
            "Test  8: \t df_dx: 1767.2875965936737 \t df_dy: 167.50041777153524\n",
            "Test  9: \t df_dx: 183.96984079706726 \t df_dy: -354.7041757450806\n"
          ]
        }
      ]
    },
    {
      "cell_type": "markdown",
      "source": [
        "As it can be seen from the above results, gradient evaluated by our method and the analytical solution got using JAX are very close (upto three decimal places)."
      ],
      "metadata": {
        "id": "jWFfUgqxZYUv"
      },
      "id": "jWFfUgqxZYUv"
    },
    {
      "cell_type": "markdown",
      "id": "0c0164db",
      "metadata": {
        "id": "0c0164db"
      },
      "source": [
        "## Question 6\n",
        "\n",
        "**Use sympy to confirm that you obtain the same gradient analytically.**"
      ]
    },
    {
      "cell_type": "code",
      "execution_count": 13,
      "id": "45454233",
      "metadata": {
        "colab": {
          "base_uri": "https://localhost:8080/"
        },
        "id": "45454233",
        "outputId": "b2bce764-1dab-486e-b5d7-f6c1376cb125"
      },
      "outputs": [
        {
          "output_type": "stream",
          "name": "stdout",
          "text": [
            "The result got using sympy: df/dx = 2*x*y + y**3*cos(x), df/dy = x**2 + 3*y**2*sin(x)\n"
          ]
        }
      ],
      "source": [
        "x, y = sp.symbols('x y')\n",
        "\n",
        "f = (x**2)*y + (y**3)*sp.sin(x)     # used sp, not np\n",
        "\n",
        "# finding derivative\n",
        "df_dx = sp.diff(f, x)\n",
        "df_dy = sp.diff(f, y)\n",
        "\n",
        "print(f\"The result got using sympy: df/dx = {df_dx}, df/dy = {df_dy}\")"
      ]
    },
    {
      "cell_type": "markdown",
      "source": [
        "It can be seen that the result got from the sympy matches with the calculated gradient."
      ],
      "metadata": {
        "id": "eKov_EcMZuTf"
      },
      "id": "eKov_EcMZuTf"
    },
    {
      "cell_type": "markdown",
      "id": "fb47f4a6",
      "metadata": {
        "id": "fb47f4a6"
      },
      "source": [
        "## Question 7\n",
        "\n",
        "**Create a Python nested dictionary to represent hierarchical information. We want to store record of students and their marks.**"
      ]
    },
    {
      "cell_type": "code",
      "execution_count": 14,
      "id": "fc40f33b",
      "metadata": {
        "id": "fc40f33b"
      },
      "outputs": [],
      "source": [
        "d = {\n",
        "    2022:\n",
        "        {\n",
        "            \"Branch 1\":\n",
        "                {\n",
        "                    \"Roll Number\": 1,\n",
        "                    \"Name\": \"N\",\n",
        "                    \"Marks\": {\"Maths\": 100, \"English\": 70}\n",
        "                },\n",
        "            \"Branch 2\": {}\n",
        "        },\n",
        "    2023: {\"Branch 1\": {}, \"Branch 2\": {}},\n",
        "    2024: {\"Branch 1\": {}, \"Branch 2\": {}},\n",
        "    2025: {\"Branch 1\": {}, \"Branch 2\": {}}\n",
        "    }"
      ]
    },
    {
      "cell_type": "markdown",
      "id": "7716490f",
      "metadata": {
        "id": "7716490f"
      },
      "source": [
        "## Question 8\n",
        "\n",
        "**Store the same information using Python classes. We have an overall database which is a list of year objects. Each year contains a list of branches. Each branch contains a list of students. Each student has some properties like name, roll number and has marks in some subjects.**"
      ]
    },
    {
      "cell_type": "code",
      "execution_count": 15,
      "id": "85e95092",
      "metadata": {
        "id": "85e95092"
      },
      "outputs": [],
      "source": [
        "# names starting with small letters are variables\n",
        "# names starting with capital letters are classes\n",
        "# used concept of inner classes for the given question\n",
        "\n",
        "class Database:                                               # Database class to store all the information\n",
        "    def __init__(self):\n",
        "        self.yearList: self.Year = []                         # creating year list using Year class \n",
        "    def addYear(self, year):                                  # to add a new year\n",
        "        year = self.Year(year)\n",
        "        self.yearList.append(year)      \n",
        "    def showYearList(self):                                   # to return year list\n",
        "        return self.yearList\n",
        "\n",
        "    class Year:                                               # class to store Year\n",
        "        def __init__(self, year):\n",
        "            self.year = year\n",
        "            self.branchList: self.Branch = []                 # creating branch list using Branch class\n",
        "        def addBranch(self, branch):                          # to add a new branch\n",
        "            branch = self.Branch(branch)\n",
        "            self.branchList.append(branch)\n",
        "        def showBranchList(self):                             # to return branch list\n",
        "            return self.branchList\n",
        "\n",
        "        class Branch:                                         # class to store Branch\n",
        "            def __init__(self, branch):\n",
        "                self.branch = branch\n",
        "                self.studentList: self.Student = []           # creating student list using Student class\n",
        "            def addStudent(self, rollNo, name):               # to add a new student\n",
        "                student = self.Student(rollNo, name)\n",
        "                self.studentList.append(student)\n",
        "            def showStudentList(self):                        # to return student list\n",
        "                return self.studentList\n",
        "    \n",
        "            class Student:                                    # class to store Student details\n",
        "                def __init__(self, rollNo, name):\n",
        "                    self.rollNo = rollNo\n",
        "                    self.name = name\n",
        "                    self.marksList: self.Marks = []           # creating marks list using Marks class \n",
        "                def addMarks(self, subjectName, marks):       # to add a new subject and its marks\n",
        "                    marks = self.Marks(subjectName, marks)\n",
        "                    self.marksList.append(marks)\n",
        "                def showMarksList(self):                      # return subject and marks list\n",
        "                    return self.marksList\n",
        "                \n",
        "                class Marks:                                  # class to store subject and corresponding marks\n",
        "                    def __init__(self, subjectName, marks):\n",
        "                        self.subjectName = subjectName\n",
        "                        self.marks = marks"
      ]
    },
    {
      "cell_type": "code",
      "source": [
        "# Another method using inheritance\n",
        "\n",
        "class Marks:\n",
        "    def __init__(self, subjectName, marks):\n",
        "        self.subjectName = subjectName\n",
        "        self.marks = marks\n",
        "        \n",
        "class Student:\n",
        "    def __init__(self, rollNo, name):\n",
        "        self.rollNo = rollNo\n",
        "        self.name = name\n",
        "        self.marksList: Marks = []\n",
        "    def addMarks(self, subjectName, marks):\n",
        "        marks = Marks(subjectName, marks)\n",
        "        self.marksList.append(marks)\n",
        "    def showMarksList(self):\n",
        "        return self.marksList\n",
        "\n",
        "class Branch:\n",
        "    def __init__(self, branch):\n",
        "        self.branch = branch\n",
        "        self.studentList: Student = []\n",
        "    def addStudent(self, rollNo, name):\n",
        "        student = Student(rollNo, name)\n",
        "        self.studentList.append(student)\n",
        "    def showStudentList(self):\n",
        "        return self.studentList\n",
        "\n",
        "class Year:\n",
        "    def __init__(self, year):\n",
        "        self.year = year\n",
        "        self.branchList: Branch = []\n",
        "    def addBranch(self, branch):\n",
        "        branch = Branch(branch)\n",
        "        self.branchList.append(branch)\n",
        "    def showBranchList(self):\n",
        "        return self.branchList\n",
        "    \n",
        "class Database:\n",
        "    def __init__(self):\n",
        "        self.yearList: Year = []\n",
        "    def addYear(self, year):\n",
        "        year = Year(year)\n",
        "        self.yearList.append(year)\n",
        "    def showYearList(self):\n",
        "        return self.yearList"
      ],
      "metadata": {
        "id": "qVg7dRlbshLP"
      },
      "id": "qVg7dRlbshLP",
      "execution_count": 16,
      "outputs": []
    },
    {
      "cell_type": "code",
      "execution_count": 17,
      "id": "17edd266",
      "metadata": {
        "id": "17edd266"
      },
      "outputs": [],
      "source": [
        "# initializing all the given information\n",
        "\n",
        "db = Database()                             # creating object of class Database\n",
        "\n",
        "db.addYear(2022)                            # adding years\n",
        "db.addYear(2023)\n",
        "db.addYear(2024)\n",
        "db.addYear(2025)\n",
        "\n",
        "years = db.showYearList()\n",
        "years[0].addBranch('Branch 1')              # adding branches for year 2022\n",
        "years[0].addBranch('Branch 2')\n",
        "\n",
        "branches = years[0].showBranchList()\n",
        "branches[0].addStudent(1, 'N')              # adding a student in year 2022 Branch 1\n",
        "\n",
        "students = branches[0].showStudentList()\n",
        "students[0].addMarks('Maths',100)           # adding student details for student in year 2022 Branch 1\n",
        "students[0].addMarks('English', 70)\n",
        "\n",
        "years[1].addBranch('Branch 1')              # adding branches for year 2023\n",
        "years[1].addBranch('Branch 2')\n",
        "\n",
        "years[2].addBranch('Branch 1')              # adding branches for year 2023\n",
        "years[2].addBranch('Branch 2')\n",
        "\n",
        "years[3].addBranch('Branch 1')              # adding branches for year 2023\n",
        "years[3].addBranch('Branch 2')"
      ]
    },
    {
      "cell_type": "code",
      "execution_count": 18,
      "id": "92fdbf48",
      "metadata": {
        "id": "92fdbf48"
      },
      "outputs": [],
      "source": [
        "# another method for initializing all the given information - combined different lines from above implimentation\n",
        "\n",
        "db = Database()\n",
        "\n",
        "db.addYear(2022)\n",
        "db.addYear(2023)\n",
        "db.addYear(2024)\n",
        "db.addYear(2025)\n",
        "\n",
        "db.showYearList()[0].addBranch('Branch 1')\n",
        "db.showYearList()[0].addBranch('Branch 2')\n",
        "db.showYearList()[0].showBranchList()[0].addStudent(1, 'N')\n",
        "db.showYearList()[0].showBranchList()[0].showStudentList()[0].addMarks('Maths',100)\n",
        "db.showYearList()[0].showBranchList()[0].showStudentList()[0].addMarks('English', 70)\n",
        "\n",
        "db.showYearList()[1].addBranch('Branch 1')\n",
        "db.showYearList()[1].addBranch('Branch 2')\n",
        "\n",
        "db.showYearList()[2].addBranch('Branch 1')\n",
        "db.showYearList()[2].addBranch('Branch 2')\n",
        "\n",
        "db.showYearList()[3].addBranch('Branch 1')\n",
        "db.showYearList()[3].addBranch('Branch 2')"
      ]
    },
    {
      "cell_type": "code",
      "execution_count": 19,
      "id": "514adc5e",
      "metadata": {
        "colab": {
          "base_uri": "https://localhost:8080/"
        },
        "id": "514adc5e",
        "outputId": "8436ee39-69c0-4a4e-e0aa-d1659d741320"
      },
      "outputs": [
        {
          "output_type": "stream",
          "name": "stdout",
          "text": [
            "year=2022 -> Branch 1 -> Student1 -> name: \t \t N\n",
            "year=2022 -> Branch 1 -> Student1 -> rollNo: \t \t 1\n",
            "year=2022 -> Branch 1 -> Student1 -> subject1: \t \t Maths\n",
            "year=2022 -> Branch 1 -> Student1 -> subject1 -> marks:  100\n",
            "2022\n",
            "2023\n",
            "2024\n",
            "2025\n"
          ]
        }
      ],
      "source": [
        "# printing the stored information\n",
        "\n",
        "print('year=2022 -> Branch 1 -> Student1 -> name:', '\\t', '\\t', db.showYearList()[0].showBranchList()[0].showStudentList()[0].name)\n",
        "print('year=2022 -> Branch 1 -> Student1 -> rollNo:', '\\t', '\\t', db.showYearList()[0].showBranchList()[0].showStudentList()[0].rollNo)\n",
        "print('year=2022 -> Branch 1 -> Student1 -> subject1:', '\\t', '\\t', db.showYearList()[0].showBranchList()[0].showStudentList()[0].showMarksList()[0].subjectName)\n",
        "print('year=2022 -> Branch 1 -> Student1 -> subject1 -> marks: ', db.showYearList()[0].showBranchList()[0].showStudentList()[0].showMarksList()[0].marks)\n",
        "for year in db.showYearList():\n",
        "    print(year.year)"
      ]
    },
    {
      "cell_type": "markdown",
      "id": "4d767df3",
      "metadata": {
        "id": "4d767df3"
      },
      "source": [
        "## Question 9\n",
        "\n",
        "**Using matplotlib plot the following functions on the domain: x = 0.5 to 100.0 in steps of 0.5.**"
      ]
    },
    {
      "cell_type": "code",
      "execution_count": 20,
      "id": "3f803d5e",
      "metadata": {
        "colab": {
          "base_uri": "https://localhost:8080/"
        },
        "id": "3f803d5e",
        "outputId": "a8ed0015-7042-4254-be54-d9b2a3f6e1fa"
      },
      "outputs": [
        {
          "output_type": "execute_result",
          "data": {
            "text/plain": [
              "array([  0.5,   1. ,   1.5,   2. ,   2.5,   3. ,   3.5,   4. ,   4.5,\n",
              "         5. ,   5.5,   6. ,   6.5,   7. ,   7.5,   8. ,   8.5,   9. ,\n",
              "         9.5,  10. ,  10.5,  11. ,  11.5,  12. ,  12.5,  13. ,  13.5,\n",
              "        14. ,  14.5,  15. ,  15.5,  16. ,  16.5,  17. ,  17.5,  18. ,\n",
              "        18.5,  19. ,  19.5,  20. ,  20.5,  21. ,  21.5,  22. ,  22.5,\n",
              "        23. ,  23.5,  24. ,  24.5,  25. ,  25.5,  26. ,  26.5,  27. ,\n",
              "        27.5,  28. ,  28.5,  29. ,  29.5,  30. ,  30.5,  31. ,  31.5,\n",
              "        32. ,  32.5,  33. ,  33.5,  34. ,  34.5,  35. ,  35.5,  36. ,\n",
              "        36.5,  37. ,  37.5,  38. ,  38.5,  39. ,  39.5,  40. ,  40.5,\n",
              "        41. ,  41.5,  42. ,  42.5,  43. ,  43.5,  44. ,  44.5,  45. ,\n",
              "        45.5,  46. ,  46.5,  47. ,  47.5,  48. ,  48.5,  49. ,  49.5,\n",
              "        50. ,  50.5,  51. ,  51.5,  52. ,  52.5,  53. ,  53.5,  54. ,\n",
              "        54.5,  55. ,  55.5,  56. ,  56.5,  57. ,  57.5,  58. ,  58.5,\n",
              "        59. ,  59.5,  60. ,  60.5,  61. ,  61.5,  62. ,  62.5,  63. ,\n",
              "        63.5,  64. ,  64.5,  65. ,  65.5,  66. ,  66.5,  67. ,  67.5,\n",
              "        68. ,  68.5,  69. ,  69.5,  70. ,  70.5,  71. ,  71.5,  72. ,\n",
              "        72.5,  73. ,  73.5,  74. ,  74.5,  75. ,  75.5,  76. ,  76.5,\n",
              "        77. ,  77.5,  78. ,  78.5,  79. ,  79.5,  80. ,  80.5,  81. ,\n",
              "        81.5,  82. ,  82.5,  83. ,  83.5,  84. ,  84.5,  85. ,  85.5,\n",
              "        86. ,  86.5,  87. ,  87.5,  88. ,  88.5,  89. ,  89.5,  90. ,\n",
              "        90.5,  91. ,  91.5,  92. ,  92.5,  93. ,  93.5,  94. ,  94.5,\n",
              "        95. ,  95.5,  96. ,  96.5,  97. ,  97.5,  98. ,  98.5,  99. ,\n",
              "        99.5, 100. ])"
            ]
          },
          "metadata": {},
          "execution_count": 20
        }
      ],
      "source": [
        "x = np.arange(0.5, 100.5, 0.5)\n",
        "x"
      ]
    },
    {
      "cell_type": "code",
      "execution_count": 21,
      "id": "8b137e00",
      "metadata": {
        "colab": {
          "base_uri": "https://localhost:8080/",
          "height": 295
        },
        "id": "8b137e00",
        "outputId": "0b3f23a9-1e20-4130-a1c4-ab5538938b72"
      },
      "outputs": [
        {
          "output_type": "display_data",
          "data": {
            "text/plain": [
              "<Figure size 432x288 with 1 Axes>"
            ],
            "image/png": "[encoded data removed]"
          },
          "metadata": {
            "needs_background": "light"
          }
        }
      ],
      "source": [
        "# 1\n",
        "\n",
        "y = x\n",
        "\n",
        "plt.plot(x, y)\n",
        "plt.xlabel('X')\n",
        "plt.ylabel('Y')\n",
        "plt.title('Title')\n",
        "plt.show()"
      ]
    },
    {
      "cell_type": "code",
      "execution_count": 22,
      "id": "d50e81fa",
      "metadata": {
        "colab": {
          "base_uri": "https://localhost:8080/",
          "height": 295
        },
        "id": "d50e81fa",
        "outputId": "77fc0abb-0756-46b6-8260-43bb11c3af1d"
      },
      "outputs": [
        {
          "output_type": "display_data",
          "data": {
            "text/plain": [
              "<Figure size 432x288 with 1 Axes>"
            ],
            "image/png": "[encoded data removed]"
          },
          "metadata": {
            "needs_background": "light"
          }
        }
      ],
      "source": [
        "# 2\n",
        "\n",
        "y = x**2\n",
        "\n",
        "plt.plot(x, y)\n",
        "plt.xlabel('X')\n",
        "plt.ylabel('Y')\n",
        "plt.title('Title')\n",
        "plt.show()"
      ]
    },
    {
      "cell_type": "code",
      "execution_count": 23,
      "id": "b4a10684",
      "metadata": {
        "colab": {
          "base_uri": "https://localhost:8080/",
          "height": 295
        },
        "id": "b4a10684",
        "outputId": "5eca7970-0297-46d4-ee47-b2b97440c2ca"
      },
      "outputs": [
        {
          "output_type": "display_data",
          "data": {
            "text/plain": [
              "<Figure size 432x288 with 1 Axes>"
            ],
            "image/png": "[encoded data removed]"
          },
          "metadata": {
            "needs_background": "light"
          }
        }
      ],
      "source": [
        "# 3\n",
        "\n",
        "y = (x**3) / 100\n",
        "\n",
        "plt.plot(x, y)\n",
        "plt.xlabel('X')\n",
        "plt.ylabel('Y')\n",
        "plt.title('Title')\n",
        "plt.show()"
      ]
    },
    {
      "cell_type": "code",
      "execution_count": 24,
      "id": "efecb4b3",
      "metadata": {
        "colab": {
          "base_uri": "https://localhost:8080/",
          "height": 295
        },
        "id": "efecb4b3",
        "outputId": "27f7585e-fd0e-43f6-d50c-9d83fd6bb532"
      },
      "outputs": [
        {
          "output_type": "display_data",
          "data": {
            "text/plain": [
              "<Figure size 432x288 with 1 Axes>"
            ],
            "image/png": "[encoded data removed]"
          },
          "metadata": {
            "needs_background": "light"
          }
        }
      ],
      "source": [
        "# 4\n",
        "\n",
        "y = np.sin(x)\n",
        "\n",
        "plt.plot(x, y)\n",
        "plt.xlabel('X')\n",
        "plt.ylabel('Y')\n",
        "plt.title('Title')\n",
        "plt.show()"
      ]
    },
    {
      "cell_type": "code",
      "execution_count": 25,
      "id": "b1691e7d",
      "metadata": {
        "colab": {
          "base_uri": "https://localhost:8080/",
          "height": 295
        },
        "id": "b1691e7d",
        "outputId": "7ec95aa3-24ae-4b33-8e80-516af5e82449"
      },
      "outputs": [
        {
          "output_type": "display_data",
          "data": {
            "text/plain": [
              "<Figure size 432x288 with 1 Axes>"
            ],
            "image/png": "[encoded data removed]"
          },
          "metadata": {
            "needs_background": "light"
          }
        }
      ],
      "source": [
        "# 5\n",
        "\n",
        "y = np.sin(x) / x\n",
        "\n",
        "plt.plot(x, y)\n",
        "plt.xlabel('X')\n",
        "plt.ylabel('Y')\n",
        "plt.title('Title')\n",
        "plt.show()"
      ]
    },
    {
      "cell_type": "code",
      "execution_count": 26,
      "id": "54bce62e",
      "metadata": {
        "colab": {
          "base_uri": "https://localhost:8080/",
          "height": 295
        },
        "id": "54bce62e",
        "outputId": "563e1f13-a2c0-4eff-872f-e0e43b70b9a8"
      },
      "outputs": [
        {
          "output_type": "display_data",
          "data": {
            "text/plain": [
              "<Figure size 432x288 with 1 Axes>"
            ],
            "image/png": "[encoded data removed]"
          },
          "metadata": {
            "needs_background": "light"
          }
        }
      ],
      "source": [
        "# 6\n",
        "\n",
        "y = np.log(x)\n",
        "\n",
        "plt.plot(x, y)\n",
        "plt.xlabel('X')\n",
        "plt.ylabel('Y')\n",
        "plt.title('Title')\n",
        "plt.show()"
      ]
    },
    {
      "cell_type": "code",
      "execution_count": 27,
      "id": "1f281f93",
      "metadata": {
        "colab": {
          "base_uri": "https://localhost:8080/",
          "height": 295
        },
        "id": "1f281f93",
        "outputId": "3ee8de43-53ba-45bd-829c-b4dc7f938918"
      },
      "outputs": [
        {
          "output_type": "display_data",
          "data": {
            "text/plain": [
              "<Figure size 432x288 with 1 Axes>"
            ],
            "image/png": "[encoded data removed]"
          },
          "metadata": {
            "needs_background": "light"
          }
        }
      ],
      "source": [
        "# 7\n",
        "\n",
        "y = np.exp(x)\n",
        "\n",
        "plt.plot(x, y)\n",
        "plt.xlabel('X')\n",
        "plt.ylabel('Y')\n",
        "plt.title('Title')\n",
        "plt.show()"
      ]
    },
    {
      "cell_type": "markdown",
      "id": "96124746",
      "metadata": {
        "id": "96124746"
      },
      "source": [
        "## Question 10\n",
        "\n",
        "**Using numpy generate a matrix of size 20X5 containing random numbers drawn uniformly from the range of 1 to 2.**\n",
        "\n",
        "**Using Pandas create a dataframe out of this matrix. Name the columns of the dataframe as “a”, “b”, “c”, “d”, “e”. Find the column with the highest standard deviation. Find the row with the lowest mean.**"
      ]
    },
    {
      "cell_type": "code",
      "execution_count": 28,
      "id": "68ecdccf",
      "metadata": {
        "colab": {
          "base_uri": "https://localhost:8080/"
        },
        "id": "68ecdccf",
        "outputId": "5c5257d0-a1b3-465b-b1ce-98ec86d6e900"
      },
      "outputs": [
        {
          "output_type": "execute_result",
          "data": {
            "text/plain": [
              "array([[1.00979568, 1.97140324, 1.52694172, 1.46973475, 1.53439551],\n",
              "       [1.91148688, 1.89506631, 1.65137816, 1.26204513, 1.48318917],\n",
              "       [1.21678001, 1.9731397 , 1.99708043, 1.64638099, 1.01134296],\n",
              "       [1.03334707, 1.72812292, 1.85784965, 1.03713101, 1.01788984],\n",
              "       [1.87122923, 1.81614289, 1.42529074, 1.10214548, 1.96686033],\n",
              "       [1.08320791, 1.87021096, 1.72605953, 1.36331247, 1.73431714],\n",
              "       [1.66203965, 1.93473975, 1.0486785 , 1.88368888, 1.27944273],\n",
              "       [1.28143297, 1.18510607, 1.7604427 , 1.98329886, 1.17162088],\n",
              "       [1.82905195, 1.46036997, 1.44319208, 1.78936026, 1.38466151],\n",
              "       [1.05634627, 1.41403212, 1.92572857, 1.36938349, 1.5606071 ],\n",
              "       [1.97830037, 1.93306904, 1.17569136, 1.18255363, 1.19038361],\n",
              "       [1.64725255, 1.43434713, 1.90878335, 1.37766809, 1.32656712],\n",
              "       [1.27397336, 1.73108378, 1.55564851, 1.5753017 , 1.77127998],\n",
              "       [1.87633561, 1.73155119, 1.31549989, 1.19866275, 1.36540128],\n",
              "       [1.52501188, 1.13453999, 1.43121406, 1.68838401, 1.33334549],\n",
              "       [1.10226383, 1.19703784, 1.2658171 , 1.4104457 , 1.02182806],\n",
              "       [1.523981  , 1.38288701, 1.53381446, 1.70063837, 1.52899547],\n",
              "       [1.87068727, 1.55789808, 1.97560512, 1.00763457, 1.99414653],\n",
              "       [1.88832236, 1.40835503, 1.32225309, 1.44094352, 1.1329824 ],\n",
              "       [1.58331331, 1.98090419, 1.00813193, 1.63402831, 1.02147634]])"
            ]
          },
          "metadata": {},
          "execution_count": 28
        }
      ],
      "source": [
        "# Generate a matrix of size 20X5 containing random numbers drawn uniformly from the range of 1 to 2\n",
        "\n",
        "mat = np.random.uniform(low=1, high=2, size=(20,5))\n",
        "mat"
      ]
    },
    {
      "cell_type": "code",
      "execution_count": 29,
      "id": "68121851",
      "metadata": {
        "colab": {
          "base_uri": "https://localhost:8080/",
          "height": 676
        },
        "id": "68121851",
        "outputId": "95ce4fd5-02f9-45c9-c856-d21526849cc9"
      },
      "outputs": [
        {
          "output_type": "execute_result",
          "data": {
            "text/plain": [
              "           a         b         c         d         e\n",
              "0   1.009796  1.971403  1.526942  1.469735  1.534396\n",
              "1   1.911487  1.895066  1.651378  1.262045  1.483189\n",
              "2   1.216780  1.973140  1.997080  1.646381  1.011343\n",
              "3   1.033347  1.728123  1.857850  1.037131  1.017890\n",
              "4   1.871229  1.816143  1.425291  1.102145  1.966860\n",
              "5   1.083208  1.870211  1.726060  1.363312  1.734317\n",
              "6   1.662040  1.934740  1.048678  1.883689  1.279443\n",
              "7   1.281433  1.185106  1.760443  1.983299  1.171621\n",
              "8   1.829052  1.460370  1.443192  1.789360  1.384662\n",
              "9   1.056346  1.414032  1.925729  1.369383  1.560607\n",
              "10  1.978300  1.933069  1.175691  1.182554  1.190384\n",
              "11  1.647253  1.434347  1.908783  1.377668  1.326567\n",
              "12  1.273973  1.731084  1.555649  1.575302  1.771280\n",
              "13  1.876336  1.731551  1.315500  1.198663  1.365401\n",
              "14  1.525012  1.134540  1.431214  1.688384  1.333345\n",
              "15  1.102264  1.197038  1.265817  1.410446  1.021828\n",
              "16  1.523981  1.382887  1.533814  1.700638  1.528995\n",
              "17  1.870687  1.557898  1.975605  1.007635  1.994147\n",
              "18  1.888322  1.408355  1.322253  1.440944  1.132982\n",
              "19  1.583313  1.980904  1.008132  1.634028  1.021476"
            ],
            "text/html": [
              "\n",
              "  <div id=\"df-4f67da1c-0241-4ef4-9524-cbb3eaf140b9\">\n",
              "    <div class=\"colab-df-container\">\n",
              "      <div>\n",
              "<style scoped>\n",
              "    .dataframe tbody tr th:only-of-type {\n",
              "        vertical-align: middle;\n",
              "    }\n",
              "\n",
              "    .dataframe tbody tr th {\n",
              "        vertical-align: top;\n",
              "    }\n",
              "\n",
              "    .dataframe thead th {\n",
              "        text-align: right;\n",
              "    }\n",
              "</style>\n",
              "<table border=\"1\" class=\"dataframe\">\n",
              "  <thead>\n",
              "    <tr style=\"text-align: right;\">\n",
              "      <th></th>\n",
              "      <th>a</th>\n",
              "      <th>b</th>\n",
              "      <th>c</th>\n",
              "      <th>d</th>\n",
              "      <th>e</th>\n",
              "    </tr>\n",
              "  </thead>\n",
              "  <tbody>\n",
              "    <tr>\n",
              "      <th>0</th>\n",
              "      <td>1.009796</td>\n",
              "      <td>1.971403</td>\n",
              "      <td>1.526942</td>\n",
              "      <td>1.469735</td>\n",
              "      <td>1.534396</td>\n",
              "    </tr>\n",
              "    <tr>\n",
              "      <th>1</th>\n",
              "      <td>1.911487</td>\n",
              "      <td>1.895066</td>\n",
              "      <td>1.651378</td>\n",
              "      <td>1.262045</td>\n",
              "      <td>1.483189</td>\n",
              "    </tr>\n",
              "    <tr>\n",
              "      <th>2</th>\n",
              "      <td>1.216780</td>\n",
              "      <td>1.973140</td>\n",
              "      <td>1.997080</td>\n",
              "      <td>1.646381</td>\n",
              "      <td>1.011343</td>\n",
              "    </tr>\n",
              "    <tr>\n",
              "      <th>3</th>\n",
              "      <td>1.033347</td>\n",
              "      <td>1.728123</td>\n",
              "      <td>1.857850</td>\n",
              "      <td>1.037131</td>\n",
              "      <td>1.017890</td>\n",
              "    </tr>\n",
              "    <tr>\n",
              "      <th>4</th>\n",
              "      <td>1.871229</td>\n",
              "      <td>1.816143</td>\n",
              "      <td>1.425291</td>\n",
              "      <td>1.102145</td>\n",
              "      <td>1.966860</td>\n",
              "    </tr>\n",
              "    <tr>\n",
              "      <th>5</th>\n",
              "      <td>1.083208</td>\n",
              "      <td>1.870211</td>\n",
              "      <td>1.726060</td>\n",
              "      <td>1.363312</td>\n",
              "      <td>1.734317</td>\n",
              "    </tr>\n",
              "    <tr>\n",
              "      <th>6</th>\n",
              "      <td>1.662040</td>\n",
              "      <td>1.934740</td>\n",
              "      <td>1.048678</td>\n",
              "      <td>1.883689</td>\n",
              "      <td>1.279443</td>\n",
              "    </tr>\n",
              "    <tr>\n",
              "      <th>7</th>\n",
              "      <td>1.281433</td>\n",
              "      <td>1.185106</td>\n",
              "      <td>1.760443</td>\n",
              "      <td>1.983299</td>\n",
              "      <td>1.171621</td>\n",
              "    </tr>\n",
              "    <tr>\n",
              "      <th>8</th>\n",
              "      <td>1.829052</td>\n",
              "      <td>1.460370</td>\n",
              "      <td>1.443192</td>\n",
              "      <td>1.789360</td>\n",
              "      <td>1.384662</td>\n",
              "    </tr>\n",
              "    <tr>\n",
              "      <th>9</th>\n",
              "      <td>1.056346</td>\n",
              "      <td>1.414032</td>\n",
              "      <td>1.925729</td>\n",
              "      <td>1.369383</td>\n",
              "      <td>1.560607</td>\n",
              "    </tr>\n",
              "    <tr>\n",
              "      <th>10</th>\n",
              "      <td>1.978300</td>\n",
              "      <td>1.933069</td>\n",
              "      <td>1.175691</td>\n",
              "      <td>1.182554</td>\n",
              "      <td>1.190384</td>\n",
              "    </tr>\n",
              "    <tr>\n",
              "      <th>11</th>\n",
              "      <td>1.647253</td>\n",
              "      <td>1.434347</td>\n",
              "      <td>1.908783</td>\n",
              "      <td>1.377668</td>\n",
              "      <td>1.326567</td>\n",
              "    </tr>\n",
              "    <tr>\n",
              "      <th>12</th>\n",
              "      <td>1.273973</td>\n",
              "      <td>1.731084</td>\n",
              "      <td>1.555649</td>\n",
              "      <td>1.575302</td>\n",
              "      <td>1.771280</td>\n",
              "    </tr>\n",
              "    <tr>\n",
              "      <th>13</th>\n",
              "      <td>1.876336</td>\n",
              "      <td>1.731551</td>\n",
              "      <td>1.315500</td>\n",
              "      <td>1.198663</td>\n",
              "      <td>1.365401</td>\n",
              "    </tr>\n",
              "    <tr>\n",
              "      <th>14</th>\n",
              "      <td>1.525012</td>\n",
              "      <td>1.134540</td>\n",
              "      <td>1.431214</td>\n",
              "      <td>1.688384</td>\n",
              "      <td>1.333345</td>\n",
              "    </tr>\n",
              "    <tr>\n",
              "      <th>15</th>\n",
              "      <td>1.102264</td>\n",
              "      <td>1.197038</td>\n",
              "      <td>1.265817</td>\n",
              "      <td>1.410446</td>\n",
              "      <td>1.021828</td>\n",
              "    </tr>\n",
              "    <tr>\n",
              "      <th>16</th>\n",
              "      <td>1.523981</td>\n",
              "      <td>1.382887</td>\n",
              "      <td>1.533814</td>\n",
              "      <td>1.700638</td>\n",
              "      <td>1.528995</td>\n",
              "    </tr>\n",
              "    <tr>\n",
              "      <th>17</th>\n",
              "      <td>1.870687</td>\n",
              "      <td>1.557898</td>\n",
              "      <td>1.975605</td>\n",
              "      <td>1.007635</td>\n",
              "      <td>1.994147</td>\n",
              "    </tr>\n",
              "    <tr>\n",
              "      <th>18</th>\n",
              "      <td>1.888322</td>\n",
              "      <td>1.408355</td>\n",
              "      <td>1.322253</td>\n",
              "      <td>1.440944</td>\n",
              "      <td>1.132982</td>\n",
              "    </tr>\n",
              "    <tr>\n",
              "      <th>19</th>\n",
              "      <td>1.583313</td>\n",
              "      <td>1.980904</td>\n",
              "      <td>1.008132</td>\n",
              "      <td>1.634028</td>\n",
              "      <td>1.021476</td>\n",
              "    </tr>\n",
              "  </tbody>\n",
              "</table>\n",
              "</div>\n",
              "      <button class=\"colab-df-convert\" onclick=\"convertToInteractive('df-4f67da1c-0241-4ef4-9524-cbb3eaf140b9')\"\n",
              "              title=\"Convert this dataframe to an interactive table.\"\n",
              "              style=\"display:none;\">\n",
              "        \n",
              "  <svg xmlns=\"http://www.w3.org/2000/svg\" height=\"24px\"viewBox=\"0 0 24 24\"\n",
              "       width=\"24px\">\n",
              "    <path d=\"M0 0h24v24H0V0z\" fill=\"none\"/>\n",
              "    <path d=\"M18.56 5.44l.94 2.06.94-2.06 2.06-.94-2.06-.94-.94-2.06-.94 2.06-2.06.94zm-11 1L8.5 8.5l.94-2.06 2.06-.94-2.06-.94L8.5 2.5l-.94 2.06-2.06.94zm10 10l.94 2.06.94-2.06 2.06-.94-2.06-.94-.94-2.06-.94 2.06-2.06.94z\"/><path d=\"M17.41 7.96l-1.37-1.37c-.4-.4-.92-.59-1.43-.59-.52 0-1.04.2-1.43.59L10.3 9.45l-7.72 7.72c-.78.78-.78 2.05 0 2.83L4 21.41c.39.39.9.59 1.41.59.51 0 1.02-.2 1.41-.59l7.78-7.78 2.81-2.81c.8-.78.8-2.07 0-2.86zM5.41 20L4 18.59l7.72-7.72 1.47 1.35L5.41 20z\"/>\n",
              "  </svg>\n",
              "      </button>\n",
              "      \n",
              "  <style>\n",
              "    .colab-df-container {\n",
              "      display:flex;\n",
              "      flex-wrap:wrap;\n",
              "      gap: 12px;\n",
              "    }\n",
              "\n",
              "    .colab-df-convert {\n",
              "      background-color: #E8F0FE;\n",
              "      border: none;\n",
              "      border-radius: 50%;\n",
              "      cursor: pointer;\n",
              "      display: none;\n",
              "      fill: #1967D2;\n",
              "      height: 32px;\n",
              "      padding: 0 0 0 0;\n",
              "      width: 32px;\n",
              "    }\n",
              "\n",
              "    .colab-df-convert:hover {\n",
              "      background-color: #E2EBFA;\n",
              "      box-shadow: 0px 1px 2px rgba(60, 64, 67, 0.3), 0px 1px 3px 1px rgba(60, 64, 67, 0.15);\n",
              "      fill: #174EA6;\n",
              "    }\n",
              "\n",
              "    [theme=dark] .colab-df-convert {\n",
              "      background-color: #3B4455;\n",
              "      fill: #D2E3FC;\n",
              "    }\n",
              "\n",
              "    [theme=dark] .colab-df-convert:hover {\n",
              "      background-color: #434B5C;\n",
              "      box-shadow: 0px 1px 3px 1px rgba(0, 0, 0, 0.15);\n",
              "      filter: drop-shadow(0px 1px 2px rgba(0, 0, 0, 0.3));\n",
              "      fill: #FFFFFF;\n",
              "    }\n",
              "  </style>\n",
              "\n",
              "      <script>\n",
              "        const buttonEl =\n",
              "          document.querySelector('#df-4f67da1c-0241-4ef4-9524-cbb3eaf140b9 button.colab-df-convert');\n",
              "        buttonEl.style.display =\n",
              "          google.colab.kernel.accessAllowed ? 'block' : 'none';\n",
              "\n",
              "        async function convertToInteractive(key) {\n",
              "          const element = document.querySelector('#df-4f67da1c-0241-4ef4-9524-cbb3eaf140b9');\n",
              "          const dataTable =\n",
              "            await google.colab.kernel.invokeFunction('convertToInteractive',\n",
              "                                                     [key], {});\n",
              "          if (!dataTable) return;\n",
              "\n",
              "          const docLinkHtml = 'Like what you see? Visit the ' +\n",
              "            '<a target=\"_blank\" href=https://colab.research.google.com/notebooks/data_table.ipynb>data table notebook</a>'\n",
              "            + ' to learn more about interactive tables.';\n",
              "          element.innerHTML = '';\n",
              "          dataTable['output_type'] = 'display_data';\n",
              "          await google.colab.output.renderOutput(dataTable, element);\n",
              "          const docLink = document.createElement('div');\n",
              "          docLink.innerHTML = docLinkHtml;\n",
              "          element.appendChild(docLink);\n",
              "        }\n",
              "      </script>\n",
              "    </div>\n",
              "  </div>\n",
              "  "
            ]
          },
          "metadata": {},
          "execution_count": 29
        }
      ],
      "source": [
        "# Name the columns of the dataframe as “a”, “b”, “c”, “d”, “e”\n",
        "\n",
        "df = pd.DataFrame(mat, columns=['a', 'b', 'c', 'd', 'e'])\n",
        "df"
      ]
    },
    {
      "cell_type": "code",
      "execution_count": 30,
      "id": "7ee08fa3",
      "metadata": {
        "colab": {
          "base_uri": "https://localhost:8080/"
        },
        "id": "7ee08fa3",
        "outputId": "f3f40eee-4dec-4ae6-a349-653e17f03ded"
      },
      "outputs": [
        {
          "output_type": "stream",
          "name": "stdout",
          "text": [
            "a\n"
          ]
        }
      ],
      "source": [
        "# Find the column with the highest standard deviation\n",
        "\n",
        "print(df.std().idxmax())"
      ]
    },
    {
      "cell_type": "code",
      "execution_count": 31,
      "id": "e4c0aa8b",
      "metadata": {
        "colab": {
          "base_uri": "https://localhost:8080/"
        },
        "id": "e4c0aa8b",
        "outputId": "2e1163c0-c5c5-4ab7-bdcb-b38428171e14"
      },
      "outputs": [
        {
          "output_type": "stream",
          "name": "stdout",
          "text": [
            "15\n"
          ]
        }
      ],
      "source": [
        "# Find the row with the lowest mean\n",
        "\n",
        "print(df.mean(axis=1).idxmin())"
      ]
    },
    {
      "cell_type": "markdown",
      "id": "ed29e425",
      "metadata": {
        "id": "ed29e425"
      },
      "source": [
        "## Question 11\n",
        "\n",
        "**Add a new column to the dataframe called “f” which is the sum of the columns “a”, “b”, “c”, “d”, “e”.**\n",
        "\n",
        "**Create another column called “g”. The value in the column “g” should be “LT8” if the value in the column “f” is less than 8 and “GT8” otherwise.**\n",
        "\n",
        "**Find the number of rows in the dataframe where the value in the column “g” is “LT8”.**\n",
        "\n",
        "**Find the standard deviation of the column “f” for the rows where the value in the column “g” is “LT8” and “GT8” respectively.**"
      ]
    },
    {
      "cell_type": "code",
      "execution_count": 32,
      "id": "348b140f",
      "metadata": {
        "colab": {
          "base_uri": "https://localhost:8080/",
          "height": 676
        },
        "id": "348b140f",
        "outputId": "e4955dcd-dff1-4a3e-be81-12dced867b2a"
      },
      "outputs": [
        {
          "output_type": "execute_result",
          "data": {
            "text/plain": [
              "           a         b         c         d         e         f\n",
              "0   1.009796  1.971403  1.526942  1.469735  1.534396  7.512271\n",
              "1   1.911487  1.895066  1.651378  1.262045  1.483189  8.203166\n",
              "2   1.216780  1.973140  1.997080  1.646381  1.011343  7.844724\n",
              "3   1.033347  1.728123  1.857850  1.037131  1.017890  6.674340\n",
              "4   1.871229  1.816143  1.425291  1.102145  1.966860  8.181669\n",
              "5   1.083208  1.870211  1.726060  1.363312  1.734317  7.777108\n",
              "6   1.662040  1.934740  1.048678  1.883689  1.279443  7.808590\n",
              "7   1.281433  1.185106  1.760443  1.983299  1.171621  7.381901\n",
              "8   1.829052  1.460370  1.443192  1.789360  1.384662  7.906636\n",
              "9   1.056346  1.414032  1.925729  1.369383  1.560607  7.326098\n",
              "10  1.978300  1.933069  1.175691  1.182554  1.190384  7.459998\n",
              "11  1.647253  1.434347  1.908783  1.377668  1.326567  7.694618\n",
              "12  1.273973  1.731084  1.555649  1.575302  1.771280  7.907287\n",
              "13  1.876336  1.731551  1.315500  1.198663  1.365401  7.487451\n",
              "14  1.525012  1.134540  1.431214  1.688384  1.333345  7.112495\n",
              "15  1.102264  1.197038  1.265817  1.410446  1.021828  5.997393\n",
              "16  1.523981  1.382887  1.533814  1.700638  1.528995  7.670316\n",
              "17  1.870687  1.557898  1.975605  1.007635  1.994147  8.405972\n",
              "18  1.888322  1.408355  1.322253  1.440944  1.132982  7.192856\n",
              "19  1.583313  1.980904  1.008132  1.634028  1.021476  7.227854"
            ],
            "text/html": [
              "\n",
              "  <div id=\"df-db3f916f-f4cb-4f6a-9318-7fd318c1b913\">\n",
              "    <div class=\"colab-df-container\">\n",
              "      <div>\n",
              "<style scoped>\n",
              "    .dataframe tbody tr th:only-of-type {\n",
              "        vertical-align: middle;\n",
              "    }\n",
              "\n",
              "    .dataframe tbody tr th {\n",
              "        vertical-align: top;\n",
              "    }\n",
              "\n",
              "    .dataframe thead th {\n",
              "        text-align: right;\n",
              "    }\n",
              "</style>\n",
              "<table border=\"1\" class=\"dataframe\">\n",
              "  <thead>\n",
              "    <tr style=\"text-align: right;\">\n",
              "      <th></th>\n",
              "      <th>a</th>\n",
              "      <th>b</th>\n",
              "      <th>c</th>\n",
              "      <th>d</th>\n",
              "      <th>e</th>\n",
              "      <th>f</th>\n",
              "    </tr>\n",
              "  </thead>\n",
              "  <tbody>\n",
              "    <tr>\n",
              "      <th>0</th>\n",
              "      <td>1.009796</td>\n",
              "      <td>1.971403</td>\n",
              "      <td>1.526942</td>\n",
              "      <td>1.469735</td>\n",
              "      <td>1.534396</td>\n",
              "      <td>7.512271</td>\n",
              "    </tr>\n",
              "    <tr>\n",
              "      <th>1</th>\n",
              "      <td>1.911487</td>\n",
              "      <td>1.895066</td>\n",
              "      <td>1.651378</td>\n",
              "      <td>1.262045</td>\n",
              "      <td>1.483189</td>\n",
              "      <td>8.203166</td>\n",
              "    </tr>\n",
              "    <tr>\n",
              "      <th>2</th>\n",
              "      <td>1.216780</td>\n",
              "      <td>1.973140</td>\n",
              "      <td>1.997080</td>\n",
              "      <td>1.646381</td>\n",
              "      <td>1.011343</td>\n",
              "      <td>7.844724</td>\n",
              "    </tr>\n",
              "    <tr>\n",
              "      <th>3</th>\n",
              "      <td>1.033347</td>\n",
              "      <td>1.728123</td>\n",
              "      <td>1.857850</td>\n",
              "      <td>1.037131</td>\n",
              "      <td>1.017890</td>\n",
              "      <td>6.674340</td>\n",
              "    </tr>\n",
              "    <tr>\n",
              "      <th>4</th>\n",
              "      <td>1.871229</td>\n",
              "      <td>1.816143</td>\n",
              "      <td>1.425291</td>\n",
              "      <td>1.102145</td>\n",
              "      <td>1.966860</td>\n",
              "      <td>8.181669</td>\n",
              "    </tr>\n",
              "    <tr>\n",
              "      <th>5</th>\n",
              "      <td>1.083208</td>\n",
              "      <td>1.870211</td>\n",
              "      <td>1.726060</td>\n",
              "      <td>1.363312</td>\n",
              "      <td>1.734317</td>\n",
              "      <td>7.777108</td>\n",
              "    </tr>\n",
              "    <tr>\n",
              "      <th>6</th>\n",
              "      <td>1.662040</td>\n",
              "      <td>1.934740</td>\n",
              "      <td>1.048678</td>\n",
              "      <td>1.883689</td>\n",
              "      <td>1.279443</td>\n",
              "      <td>7.808590</td>\n",
              "    </tr>\n",
              "    <tr>\n",
              "      <th>7</th>\n",
              "      <td>1.281433</td>\n",
              "      <td>1.185106</td>\n",
              "      <td>1.760443</td>\n",
              "      <td>1.983299</td>\n",
              "      <td>1.171621</td>\n",
              "      <td>7.381901</td>\n",
              "    </tr>\n",
              "    <tr>\n",
              "      <th>8</th>\n",
              "      <td>1.829052</td>\n",
              "      <td>1.460370</td>\n",
              "      <td>1.443192</td>\n",
              "      <td>1.789360</td>\n",
              "      <td>1.384662</td>\n",
              "      <td>7.906636</td>\n",
              "    </tr>\n",
              "    <tr>\n",
              "      <th>9</th>\n",
              "      <td>1.056346</td>\n",
              "      <td>1.414032</td>\n",
              "      <td>1.925729</td>\n",
              "      <td>1.369383</td>\n",
              "      <td>1.560607</td>\n",
              "      <td>7.326098</td>\n",
              "    </tr>\n",
              "    <tr>\n",
              "      <th>10</th>\n",
              "      <td>1.978300</td>\n",
              "      <td>1.933069</td>\n",
              "      <td>1.175691</td>\n",
              "      <td>1.182554</td>\n",
              "      <td>1.190384</td>\n",
              "      <td>7.459998</td>\n",
              "    </tr>\n",
              "    <tr>\n",
              "      <th>11</th>\n",
              "      <td>1.647253</td>\n",
              "      <td>1.434347</td>\n",
              "      <td>1.908783</td>\n",
              "      <td>1.377668</td>\n",
              "      <td>1.326567</td>\n",
              "      <td>7.694618</td>\n",
              "    </tr>\n",
              "    <tr>\n",
              "      <th>12</th>\n",
              "      <td>1.273973</td>\n",
              "      <td>1.731084</td>\n",
              "      <td>1.555649</td>\n",
              "      <td>1.575302</td>\n",
              "      <td>1.771280</td>\n",
              "      <td>7.907287</td>\n",
              "    </tr>\n",
              "    <tr>\n",
              "      <th>13</th>\n",
              "      <td>1.876336</td>\n",
              "      <td>1.731551</td>\n",
              "      <td>1.315500</td>\n",
              "      <td>1.198663</td>\n",
              "      <td>1.365401</td>\n",
              "      <td>7.487451</td>\n",
              "    </tr>\n",
              "    <tr>\n",
              "      <th>14</th>\n",
              "      <td>1.525012</td>\n",
              "      <td>1.134540</td>\n",
              "      <td>1.431214</td>\n",
              "      <td>1.688384</td>\n",
              "      <td>1.333345</td>\n",
              "      <td>7.112495</td>\n",
              "    </tr>\n",
              "    <tr>\n",
              "      <th>15</th>\n",
              "      <td>1.102264</td>\n",
              "      <td>1.197038</td>\n",
              "      <td>1.265817</td>\n",
              "      <td>1.410446</td>\n",
              "      <td>1.021828</td>\n",
              "      <td>5.997393</td>\n",
              "    </tr>\n",
              "    <tr>\n",
              "      <th>16</th>\n",
              "      <td>1.523981</td>\n",
              "      <td>1.382887</td>\n",
              "      <td>1.533814</td>\n",
              "      <td>1.700638</td>\n",
              "      <td>1.528995</td>\n",
              "      <td>7.670316</td>\n",
              "    </tr>\n",
              "    <tr>\n",
              "      <th>17</th>\n",
              "      <td>1.870687</td>\n",
              "      <td>1.557898</td>\n",
              "      <td>1.975605</td>\n",
              "      <td>1.007635</td>\n",
              "      <td>1.994147</td>\n",
              "      <td>8.405972</td>\n",
              "    </tr>\n",
              "    <tr>\n",
              "      <th>18</th>\n",
              "      <td>1.888322</td>\n",
              "      <td>1.408355</td>\n",
              "      <td>1.322253</td>\n",
              "      <td>1.440944</td>\n",
              "      <td>1.132982</td>\n",
              "      <td>7.192856</td>\n",
              "    </tr>\n",
              "    <tr>\n",
              "      <th>19</th>\n",
              "      <td>1.583313</td>\n",
              "      <td>1.980904</td>\n",
              "      <td>1.008132</td>\n",
              "      <td>1.634028</td>\n",
              "      <td>1.021476</td>\n",
              "      <td>7.227854</td>\n",
              "    </tr>\n",
              "  </tbody>\n",
              "</table>\n",
              "</div>\n",
              "      <button class=\"colab-df-convert\" onclick=\"convertToInteractive('df-db3f916f-f4cb-4f6a-9318-7fd318c1b913')\"\n",
              "              title=\"Convert this dataframe to an interactive table.\"\n",
              "              style=\"display:none;\">\n",
              "        \n",
              "  <svg xmlns=\"http://www.w3.org/2000/svg\" height=\"24px\"viewBox=\"0 0 24 24\"\n",
              "       width=\"24px\">\n",
              "    <path d=\"M0 0h24v24H0V0z\" fill=\"none\"/>\n",
              "    <path d=\"M18.56 5.44l.94 2.06.94-2.06 2.06-.94-2.06-.94-.94-2.06-.94 2.06-2.06.94zm-11 1L8.5 8.5l.94-2.06 2.06-.94-2.06-.94L8.5 2.5l-.94 2.06-2.06.94zm10 10l.94 2.06.94-2.06 2.06-.94-2.06-.94-.94-2.06-.94 2.06-2.06.94z\"/><path d=\"M17.41 7.96l-1.37-1.37c-.4-.4-.92-.59-1.43-.59-.52 0-1.04.2-1.43.59L10.3 9.45l-7.72 7.72c-.78.78-.78 2.05 0 2.83L4 21.41c.39.39.9.59 1.41.59.51 0 1.02-.2 1.41-.59l7.78-7.78 2.81-2.81c.8-.78.8-2.07 0-2.86zM5.41 20L4 18.59l7.72-7.72 1.47 1.35L5.41 20z\"/>\n",
              "  </svg>\n",
              "      </button>\n",
              "      \n",
              "  <style>\n",
              "    .colab-df-container {\n",
              "      display:flex;\n",
              "      flex-wrap:wrap;\n",
              "      gap: 12px;\n",
              "    }\n",
              "\n",
              "    .colab-df-convert {\n",
              "      background-color: #E8F0FE;\n",
              "      border: none;\n",
              "      border-radius: 50%;\n",
              "      cursor: pointer;\n",
              "      display: none;\n",
              "      fill: #1967D2;\n",
              "      height: 32px;\n",
              "      padding: 0 0 0 0;\n",
              "      width: 32px;\n",
              "    }\n",
              "\n",
              "    .colab-df-convert:hover {\n",
              "      background-color: #E2EBFA;\n",
              "      box-shadow: 0px 1px 2px rgba(60, 64, 67, 0.3), 0px 1px 3px 1px rgba(60, 64, 67, 0.15);\n",
              "      fill: #174EA6;\n",
              "    }\n",
              "\n",
              "    [theme=dark] .colab-df-convert {\n",
              "      background-color: #3B4455;\n",
              "      fill: #D2E3FC;\n",
              "    }\n",
              "\n",
              "    [theme=dark] .colab-df-convert:hover {\n",
              "      background-color: #434B5C;\n",
              "      box-shadow: 0px 1px 3px 1px rgba(0, 0, 0, 0.15);\n",
              "      filter: drop-shadow(0px 1px 2px rgba(0, 0, 0, 0.3));\n",
              "      fill: #FFFFFF;\n",
              "    }\n",
              "  </style>\n",
              "\n",
              "      <script>\n",
              "        const buttonEl =\n",
              "          document.querySelector('#df-db3f916f-f4cb-4f6a-9318-7fd318c1b913 button.colab-df-convert');\n",
              "        buttonEl.style.display =\n",
              "          google.colab.kernel.accessAllowed ? 'block' : 'none';\n",
              "\n",
              "        async function convertToInteractive(key) {\n",
              "          const element = document.querySelector('#df-db3f916f-f4cb-4f6a-9318-7fd318c1b913');\n",
              "          const dataTable =\n",
              "            await google.colab.kernel.invokeFunction('convertToInteractive',\n",
              "                                                     [key], {});\n",
              "          if (!dataTable) return;\n",
              "\n",
              "          const docLinkHtml = 'Like what you see? Visit the ' +\n",
              "            '<a target=\"_blank\" href=https://colab.research.google.com/notebooks/data_table.ipynb>data table notebook</a>'\n",
              "            + ' to learn more about interactive tables.';\n",
              "          element.innerHTML = '';\n",
              "          dataTable['output_type'] = 'display_data';\n",
              "          await google.colab.output.renderOutput(dataTable, element);\n",
              "          const docLink = document.createElement('div');\n",
              "          docLink.innerHTML = docLinkHtml;\n",
              "          element.appendChild(docLink);\n",
              "        }\n",
              "      </script>\n",
              "    </div>\n",
              "  </div>\n",
              "  "
            ]
          },
          "metadata": {},
          "execution_count": 32
        }
      ],
      "source": [
        "# Add a new column to the dataframe called “f” which is the sum of the columns “a”, “b”, “c”, “d”, “e”.\n",
        "\n",
        "df['f'] = 0    # added this because when we run the below function multiple time, it adds the value of f calculated in last run\n",
        "df['f'] = df.sum(axis=1)\n",
        "df"
      ]
    },
    {
      "cell_type": "code",
      "execution_count": 33,
      "id": "5164744c",
      "metadata": {
        "colab": {
          "base_uri": "https://localhost:8080/",
          "height": 676
        },
        "id": "5164744c",
        "outputId": "502f473d-6a31-44bf-c876-ba5868631dac"
      },
      "outputs": [
        {
          "output_type": "execute_result",
          "data": {
            "text/plain": [
              "           a         b         c         d         e         f    g\n",
              "0   1.009796  1.971403  1.526942  1.469735  1.534396  7.512271  LT8\n",
              "1   1.911487  1.895066  1.651378  1.262045  1.483189  8.203166  GT8\n",
              "2   1.216780  1.973140  1.997080  1.646381  1.011343  7.844724  LT8\n",
              "3   1.033347  1.728123  1.857850  1.037131  1.017890  6.674340  LT8\n",
              "4   1.871229  1.816143  1.425291  1.102145  1.966860  8.181669  GT8\n",
              "5   1.083208  1.870211  1.726060  1.363312  1.734317  7.777108  LT8\n",
              "6   1.662040  1.934740  1.048678  1.883689  1.279443  7.808590  LT8\n",
              "7   1.281433  1.185106  1.760443  1.983299  1.171621  7.381901  LT8\n",
              "8   1.829052  1.460370  1.443192  1.789360  1.384662  7.906636  LT8\n",
              "9   1.056346  1.414032  1.925729  1.369383  1.560607  7.326098  LT8\n",
              "10  1.978300  1.933069  1.175691  1.182554  1.190384  7.459998  LT8\n",
              "11  1.647253  1.434347  1.908783  1.377668  1.326567  7.694618  LT8\n",
              "12  1.273973  1.731084  1.555649  1.575302  1.771280  7.907287  LT8\n",
              "13  1.876336  1.731551  1.315500  1.198663  1.365401  7.487451  LT8\n",
              "14  1.525012  1.134540  1.431214  1.688384  1.333345  7.112495  LT8\n",
              "15  1.102264  1.197038  1.265817  1.410446  1.021828  5.997393  LT8\n",
              "16  1.523981  1.382887  1.533814  1.700638  1.528995  7.670316  LT8\n",
              "17  1.870687  1.557898  1.975605  1.007635  1.994147  8.405972  GT8\n",
              "18  1.888322  1.408355  1.322253  1.440944  1.132982  7.192856  LT8\n",
              "19  1.583313  1.980904  1.008132  1.634028  1.021476  7.227854  LT8"
            ],
            "text/html": [
              "\n",
              "  <div id=\"df-d228da6b-e5af-411a-ae60-db8a9a82ac99\">\n",
              "    <div class=\"colab-df-container\">\n",
              "      <div>\n",
              "<style scoped>\n",
              "    .dataframe tbody tr th:only-of-type {\n",
              "        vertical-align: middle;\n",
              "    }\n",
              "\n",
              "    .dataframe tbody tr th {\n",
              "        vertical-align: top;\n",
              "    }\n",
              "\n",
              "    .dataframe thead th {\n",
              "        text-align: right;\n",
              "    }\n",
              "</style>\n",
              "<table border=\"1\" class=\"dataframe\">\n",
              "  <thead>\n",
              "    <tr style=\"text-align: right;\">\n",
              "      <th></th>\n",
              "      <th>a</th>\n",
              "      <th>b</th>\n",
              "      <th>c</th>\n",
              "      <th>d</th>\n",
              "      <th>e</th>\n",
              "      <th>f</th>\n",
              "      <th>g</th>\n",
              "    </tr>\n",
              "  </thead>\n",
              "  <tbody>\n",
              "    <tr>\n",
              "      <th>0</th>\n",
              "      <td>1.009796</td>\n",
              "      <td>1.971403</td>\n",
              "      <td>1.526942</td>\n",
              "      <td>1.469735</td>\n",
              "      <td>1.534396</td>\n",
              "      <td>7.512271</td>\n",
              "      <td>LT8</td>\n",
              "    </tr>\n",
              "    <tr>\n",
              "      <th>1</th>\n",
              "      <td>1.911487</td>\n",
              "      <td>1.895066</td>\n",
              "      <td>1.651378</td>\n",
              "      <td>1.262045</td>\n",
              "      <td>1.483189</td>\n",
              "      <td>8.203166</td>\n",
              "      <td>GT8</td>\n",
              "    </tr>\n",
              "    <tr>\n",
              "      <th>2</th>\n",
              "      <td>1.216780</td>\n",
              "      <td>1.973140</td>\n",
              "      <td>1.997080</td>\n",
              "      <td>1.646381</td>\n",
              "      <td>1.011343</td>\n",
              "      <td>7.844724</td>\n",
              "      <td>LT8</td>\n",
              "    </tr>\n",
              "    <tr>\n",
              "      <th>3</th>\n",
              "      <td>1.033347</td>\n",
              "      <td>1.728123</td>\n",
              "      <td>1.857850</td>\n",
              "      <td>1.037131</td>\n",
              "      <td>1.017890</td>\n",
              "      <td>6.674340</td>\n",
              "      <td>LT8</td>\n",
              "    </tr>\n",
              "    <tr>\n",
              "      <th>4</th>\n",
              "      <td>1.871229</td>\n",
              "      <td>1.816143</td>\n",
              "      <td>1.425291</td>\n",
              "      <td>1.102145</td>\n",
              "      <td>1.966860</td>\n",
              "      <td>8.181669</td>\n",
              "      <td>GT8</td>\n",
              "    </tr>\n",
              "    <tr>\n",
              "      <th>5</th>\n",
              "      <td>1.083208</td>\n",
              "      <td>1.870211</td>\n",
              "      <td>1.726060</td>\n",
              "      <td>1.363312</td>\n",
              "      <td>1.734317</td>\n",
              "      <td>7.777108</td>\n",
              "      <td>LT8</td>\n",
              "    </tr>\n",
              "    <tr>\n",
              "      <th>6</th>\n",
              "      <td>1.662040</td>\n",
              "      <td>1.934740</td>\n",
              "      <td>1.048678</td>\n",
              "      <td>1.883689</td>\n",
              "      <td>1.279443</td>\n",
              "      <td>7.808590</td>\n",
              "      <td>LT8</td>\n",
              "    </tr>\n",
              "    <tr>\n",
              "      <th>7</th>\n",
              "      <td>1.281433</td>\n",
              "      <td>1.185106</td>\n",
              "      <td>1.760443</td>\n",
              "      <td>1.983299</td>\n",
              "      <td>1.171621</td>\n",
              "      <td>7.381901</td>\n",
              "      <td>LT8</td>\n",
              "    </tr>\n",
              "    <tr>\n",
              "      <th>8</th>\n",
              "      <td>1.829052</td>\n",
              "      <td>1.460370</td>\n",
              "      <td>1.443192</td>\n",
              "      <td>1.789360</td>\n",
              "      <td>1.384662</td>\n",
              "      <td>7.906636</td>\n",
              "      <td>LT8</td>\n",
              "    </tr>\n",
              "    <tr>\n",
              "      <th>9</th>\n",
              "      <td>1.056346</td>\n",
              "      <td>1.414032</td>\n",
              "      <td>1.925729</td>\n",
              "      <td>1.369383</td>\n",
              "      <td>1.560607</td>\n",
              "      <td>7.326098</td>\n",
              "      <td>LT8</td>\n",
              "    </tr>\n",
              "    <tr>\n",
              "      <th>10</th>\n",
              "      <td>1.978300</td>\n",
              "      <td>1.933069</td>\n",
              "      <td>1.175691</td>\n",
              "      <td>1.182554</td>\n",
              "      <td>1.190384</td>\n",
              "      <td>7.459998</td>\n",
              "      <td>LT8</td>\n",
              "    </tr>\n",
              "    <tr>\n",
              "      <th>11</th>\n",
              "      <td>1.647253</td>\n",
              "      <td>1.434347</td>\n",
              "      <td>1.908783</td>\n",
              "      <td>1.377668</td>\n",
              "      <td>1.326567</td>\n",
              "      <td>7.694618</td>\n",
              "      <td>LT8</td>\n",
              "    </tr>\n",
              "    <tr>\n",
              "      <th>12</th>\n",
              "      <td>1.273973</td>\n",
              "      <td>1.731084</td>\n",
              "      <td>1.555649</td>\n",
              "      <td>1.575302</td>\n",
              "      <td>1.771280</td>\n",
              "      <td>7.907287</td>\n",
              "      <td>LT8</td>\n",
              "    </tr>\n",
              "    <tr>\n",
              "      <th>13</th>\n",
              "      <td>1.876336</td>\n",
              "      <td>1.731551</td>\n",
              "      <td>1.315500</td>\n",
              "      <td>1.198663</td>\n",
              "      <td>1.365401</td>\n",
              "      <td>7.487451</td>\n",
              "      <td>LT8</td>\n",
              "    </tr>\n",
              "    <tr>\n",
              "      <th>14</th>\n",
              "      <td>1.525012</td>\n",
              "      <td>1.134540</td>\n",
              "      <td>1.431214</td>\n",
              "      <td>1.688384</td>\n",
              "      <td>1.333345</td>\n",
              "      <td>7.112495</td>\n",
              "      <td>LT8</td>\n",
              "    </tr>\n",
              "    <tr>\n",
              "      <th>15</th>\n",
              "      <td>1.102264</td>\n",
              "      <td>1.197038</td>\n",
              "      <td>1.265817</td>\n",
              "      <td>1.410446</td>\n",
              "      <td>1.021828</td>\n",
              "      <td>5.997393</td>\n",
              "      <td>LT8</td>\n",
              "    </tr>\n",
              "    <tr>\n",
              "      <th>16</th>\n",
              "      <td>1.523981</td>\n",
              "      <td>1.382887</td>\n",
              "      <td>1.533814</td>\n",
              "      <td>1.700638</td>\n",
              "      <td>1.528995</td>\n",
              "      <td>7.670316</td>\n",
              "      <td>LT8</td>\n",
              "    </tr>\n",
              "    <tr>\n",
              "      <th>17</th>\n",
              "      <td>1.870687</td>\n",
              "      <td>1.557898</td>\n",
              "      <td>1.975605</td>\n",
              "      <td>1.007635</td>\n",
              "      <td>1.994147</td>\n",
              "      <td>8.405972</td>\n",
              "      <td>GT8</td>\n",
              "    </tr>\n",
              "    <tr>\n",
              "      <th>18</th>\n",
              "      <td>1.888322</td>\n",
              "      <td>1.408355</td>\n",
              "      <td>1.322253</td>\n",
              "      <td>1.440944</td>\n",
              "      <td>1.132982</td>\n",
              "      <td>7.192856</td>\n",
              "      <td>LT8</td>\n",
              "    </tr>\n",
              "    <tr>\n",
              "      <th>19</th>\n",
              "      <td>1.583313</td>\n",
              "      <td>1.980904</td>\n",
              "      <td>1.008132</td>\n",
              "      <td>1.634028</td>\n",
              "      <td>1.021476</td>\n",
              "      <td>7.227854</td>\n",
              "      <td>LT8</td>\n",
              "    </tr>\n",
              "  </tbody>\n",
              "</table>\n",
              "</div>\n",
              "      <button class=\"colab-df-convert\" onclick=\"convertToInteractive('df-d228da6b-e5af-411a-ae60-db8a9a82ac99')\"\n",
              "              title=\"Convert this dataframe to an interactive table.\"\n",
              "              style=\"display:none;\">\n",
              "        \n",
              "  <svg xmlns=\"http://www.w3.org/2000/svg\" height=\"24px\"viewBox=\"0 0 24 24\"\n",
              "       width=\"24px\">\n",
              "    <path d=\"M0 0h24v24H0V0z\" fill=\"none\"/>\n",
              "    <path d=\"M18.56 5.44l.94 2.06.94-2.06 2.06-.94-2.06-.94-.94-2.06-.94 2.06-2.06.94zm-11 1L8.5 8.5l.94-2.06 2.06-.94-2.06-.94L8.5 2.5l-.94 2.06-2.06.94zm10 10l.94 2.06.94-2.06 2.06-.94-2.06-.94-.94-2.06-.94 2.06-2.06.94z\"/><path d=\"M17.41 7.96l-1.37-1.37c-.4-.4-.92-.59-1.43-.59-.52 0-1.04.2-1.43.59L10.3 9.45l-7.72 7.72c-.78.78-.78 2.05 0 2.83L4 21.41c.39.39.9.59 1.41.59.51 0 1.02-.2 1.41-.59l7.78-7.78 2.81-2.81c.8-.78.8-2.07 0-2.86zM5.41 20L4 18.59l7.72-7.72 1.47 1.35L5.41 20z\"/>\n",
              "  </svg>\n",
              "      </button>\n",
              "      \n",
              "  <style>\n",
              "    .colab-df-container {\n",
              "      display:flex;\n",
              "      flex-wrap:wrap;\n",
              "      gap: 12px;\n",
              "    }\n",
              "\n",
              "    .colab-df-convert {\n",
              "      background-color: #E8F0FE;\n",
              "      border: none;\n",
              "      border-radius: 50%;\n",
              "      cursor: pointer;\n",
              "      display: none;\n",
              "      fill: #1967D2;\n",
              "      height: 32px;\n",
              "      padding: 0 0 0 0;\n",
              "      width: 32px;\n",
              "    }\n",
              "\n",
              "    .colab-df-convert:hover {\n",
              "      background-color: #E2EBFA;\n",
              "      box-shadow: 0px 1px 2px rgba(60, 64, 67, 0.3), 0px 1px 3px 1px rgba(60, 64, 67, 0.15);\n",
              "      fill: #174EA6;\n",
              "    }\n",
              "\n",
              "    [theme=dark] .colab-df-convert {\n",
              "      background-color: #3B4455;\n",
              "      fill: #D2E3FC;\n",
              "    }\n",
              "\n",
              "    [theme=dark] .colab-df-convert:hover {\n",
              "      background-color: #434B5C;\n",
              "      box-shadow: 0px 1px 3px 1px rgba(0, 0, 0, 0.15);\n",
              "      filter: drop-shadow(0px 1px 2px rgba(0, 0, 0, 0.3));\n",
              "      fill: #FFFFFF;\n",
              "    }\n",
              "  </style>\n",
              "\n",
              "      <script>\n",
              "        const buttonEl =\n",
              "          document.querySelector('#df-d228da6b-e5af-411a-ae60-db8a9a82ac99 button.colab-df-convert');\n",
              "        buttonEl.style.display =\n",
              "          google.colab.kernel.accessAllowed ? 'block' : 'none';\n",
              "\n",
              "        async function convertToInteractive(key) {\n",
              "          const element = document.querySelector('#df-d228da6b-e5af-411a-ae60-db8a9a82ac99');\n",
              "          const dataTable =\n",
              "            await google.colab.kernel.invokeFunction('convertToInteractive',\n",
              "                                                     [key], {});\n",
              "          if (!dataTable) return;\n",
              "\n",
              "          const docLinkHtml = 'Like what you see? Visit the ' +\n",
              "            '<a target=\"_blank\" href=https://colab.research.google.com/notebooks/data_table.ipynb>data table notebook</a>'\n",
              "            + ' to learn more about interactive tables.';\n",
              "          element.innerHTML = '';\n",
              "          dataTable['output_type'] = 'display_data';\n",
              "          await google.colab.output.renderOutput(dataTable, element);\n",
              "          const docLink = document.createElement('div');\n",
              "          docLink.innerHTML = docLinkHtml;\n",
              "          element.appendChild(docLink);\n",
              "        }\n",
              "      </script>\n",
              "    </div>\n",
              "  </div>\n",
              "  "
            ]
          },
          "metadata": {},
          "execution_count": 33
        }
      ],
      "source": [
        "# Create another column called “g”. The value in the column “g” should be “LT8” if the value in the column “f” is less than 8 and “GT8” otherwise.\n",
        "\n",
        "df['g'] = np.where(df['f']<8, 'LT8', 'GT8')\n",
        "df"
      ]
    },
    {
      "cell_type": "code",
      "execution_count": 34,
      "id": "d13d6c34",
      "metadata": {
        "colab": {
          "base_uri": "https://localhost:8080/"
        },
        "id": "d13d6c34",
        "outputId": "018efaa7-257f-400f-e1b3-35f9d48a88fe"
      },
      "outputs": [
        {
          "output_type": "execute_result",
          "data": {
            "text/plain": [
              "17"
            ]
          },
          "metadata": {},
          "execution_count": 34
        }
      ],
      "source": [
        "# Find the number of rows in the dataframe where the value in the column “g” is “LT8”.\n",
        "\n",
        "sum(df['g']=='LT8')"
      ]
    },
    {
      "cell_type": "code",
      "execution_count": 35,
      "id": "987bae69",
      "metadata": {
        "colab": {
          "base_uri": "https://localhost:8080/"
        },
        "id": "987bae69",
        "outputId": "589ab499-f470-460a-f481-a1be2c18a025"
      },
      "outputs": [
        {
          "output_type": "execute_result",
          "data": {
            "text/plain": [
              "0.49102008607322994"
            ]
          },
          "metadata": {},
          "execution_count": 35
        }
      ],
      "source": [
        "# Find the standard deviation of the column “f” for the rows where the value in the column “g” is “LT8”\n",
        "df[df['g']=='LT8']['f'].std()"
      ]
    },
    {
      "cell_type": "code",
      "execution_count": 36,
      "id": "42e14f87",
      "metadata": {
        "colab": {
          "base_uri": "https://localhost:8080/"
        },
        "id": "42e14f87",
        "outputId": "5a6c3fdb-7ba3-44f7-cac3-b86ecf4f76f8"
      },
      "outputs": [
        {
          "output_type": "execute_result",
          "data": {
            "text/plain": [
              "0.12376331303558148"
            ]
          },
          "metadata": {},
          "execution_count": 36
        }
      ],
      "source": [
        "# Find the standard deviation of the column “f” for the rows where the value in the column “g” is “GT8”\n",
        "\n",
        "df[df['g']=='GT8']['f'].std()"
      ]
    },
    {
      "cell_type": "markdown",
      "id": "9830fa0b",
      "metadata": {
        "id": "9830fa0b"
      },
      "source": [
        "## Question 12\n",
        "\n",
        "**Write a small piece of code to explain broadcasting in numpy**"
      ]
    },
    {
      "cell_type": "markdown",
      "id": "6c456f6f",
      "metadata": {
        "id": "6c456f6f"
      },
      "source": [
        "In the below example, mat1 is 5x3 matrix and mat2 is 5x1 matrix. When they are added together, each column of mat1 is added to mat2."
      ]
    },
    {
      "cell_type": "code",
      "execution_count": 37,
      "id": "2a9dd6f6",
      "metadata": {
        "colab": {
          "base_uri": "https://localhost:8080/"
        },
        "id": "2a9dd6f6",
        "outputId": "7bf94c46-2569-498c-810e-a5bee178b046"
      },
      "outputs": [
        {
          "output_type": "execute_result",
          "data": {
            "text/plain": [
              "array([[7, 2, 4],\n",
              "       [3, 2, 7],\n",
              "       [4, 6, 6],\n",
              "       [2, 4, 2],\n",
              "       [6, 6, 3]])"
            ]
          },
          "metadata": {},
          "execution_count": 37
        }
      ],
      "source": [
        "# matrix containing elements from [1,10)\n",
        "mat1 = np.random.randint(1, 10, (5,3))\n",
        "mat1"
      ]
    },
    {
      "cell_type": "code",
      "execution_count": 38,
      "id": "f5df5f60",
      "metadata": {
        "colab": {
          "base_uri": "https://localhost:8080/"
        },
        "id": "f5df5f60",
        "outputId": "674e5ac7-92e2-4da9-a7e7-15a363fffe7d"
      },
      "outputs": [
        {
          "output_type": "execute_result",
          "data": {
            "text/plain": [
              "array([[1],\n",
              "       [3],\n",
              "       [5],\n",
              "       [5],\n",
              "       [7]])"
            ]
          },
          "metadata": {},
          "execution_count": 38
        }
      ],
      "source": [
        "mat2 = np.random.randint(1, 10, (5,1))\n",
        "mat2"
      ]
    },
    {
      "cell_type": "code",
      "execution_count": 39,
      "id": "bacd0b36",
      "metadata": {
        "colab": {
          "base_uri": "https://localhost:8080/"
        },
        "id": "bacd0b36",
        "outputId": "265af1bf-4e02-477c-c4d1-765ae1c19190"
      },
      "outputs": [
        {
          "output_type": "execute_result",
          "data": {
            "text/plain": [
              "array([[ 8,  3,  5],\n",
              "       [ 6,  5, 10],\n",
              "       [ 9, 11, 11],\n",
              "       [ 7,  9,  7],\n",
              "       [13, 13, 10]])"
            ]
          },
          "metadata": {},
          "execution_count": 39
        }
      ],
      "source": [
        "mat1 + mat2"
      ]
    },
    {
      "cell_type": "markdown",
      "id": "94a487df",
      "metadata": {
        "id": "94a487df"
      },
      "source": [
        "## Question 13\n",
        "\n",
        "**Write a function to compute the argmin of a numpy array. The function should take a numpy array as input and return the index of the minimum element. You can use the np.argmin function to verify your solution.**"
      ]
    },
    {
      "cell_type": "code",
      "execution_count": 43,
      "id": "6e2f003a",
      "metadata": {
        "colab": {
          "base_uri": "https://localhost:8080/"
        },
        "id": "6e2f003a",
        "outputId": "5a299573-1580-4a2d-8ffc-3a3ced8a1f18"
      },
      "outputs": [
        {
          "output_type": "execute_result",
          "data": {
            "text/plain": [
              "array([84, 80, 46, 28, 45, 99, 11, 59, 14, 72])"
            ]
          },
          "metadata": {},
          "execution_count": 43
        }
      ],
      "source": [
        "# creating array\n",
        "ar = np.random.randint(1, 100, 10)\n",
        "ar"
      ]
    },
    {
      "cell_type": "code",
      "execution_count": 44,
      "id": "e23d0b7b",
      "metadata": {
        "colab": {
          "base_uri": "https://localhost:8080/"
        },
        "id": "e23d0b7b",
        "outputId": "2c775d7d-3907-4d3e-c232-0b389e5043e0"
      },
      "outputs": [
        {
          "output_type": "stream",
          "name": "stdout",
          "text": [
            "argmin of given array using defined function: 9\n",
            "argmin of given array using np.argmin: 9\n"
          ]
        }
      ],
      "source": [
        "# function to find argmin\n",
        "def argmin(ar):\n",
        "    if len(ar) == 0:              # if array is empty\n",
        "        return 'Array is empty'\n",
        "    min = ar[0]\n",
        "    idx = 0\n",
        "    for i in range(len(ar)):\n",
        "        if(ar[i]<min):\n",
        "            idx = i\n",
        "    return idx\n",
        "            \n",
        "print('argmin of given array using defined function:', argmin(ar))\n",
        "print('argmin of given array using np.argmin:', argmin(ar))"
      ]
    }
  ],
  "metadata": {
    "kernelspec": {
      "display_name": "Python 3 (ipykernel)",
      "language": "python",
      "name": "python3"
    },
    "language_info": {
      "codemirror_mode": {
        "name": "ipython",
        "version": 3
      },
      "file_extension": ".py",
      "mimetype": "text/x-python",
      "name": "python",
      "nbconvert_exporter": "python",
      "pygments_lexer": "ipython3",
      "version": "3.9.13"
    },
    "colab": {
      "provenance": [],
      "include_colab_link": true
    }
  },
  "nbformat": 4,
  "nbformat_minor": 5
}